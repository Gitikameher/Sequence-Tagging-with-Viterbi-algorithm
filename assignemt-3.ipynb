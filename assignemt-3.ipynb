{
 "cells": [
  {
   "cell_type": "code",
   "execution_count": 3,
   "metadata": {},
   "outputs": [],
   "source": [
    "import numpy as np"
   ]
  },
  {
   "cell_type": "code",
   "execution_count": 46,
   "metadata": {},
   "outputs": [],
   "source": [
    "from count_freqs import * \n",
    "counter = Hmm(3)\n",
    "input = open(\"gene_mod.train\",\"r\")\n",
    "counter.train(input)\n",
    "output=open(\"original_counts\",\"w\")\n",
    "counter.write_counts(output)\n",
    "output.close()"
   ]
  },
  {
   "cell_type": "code",
   "execution_count": 45,
   "metadata": {},
   "outputs": [],
   "source": [
    "trained=open(\"original_counts\",\"r\")\n",
    "x=trained.readlines()\n",
    "trained.close()\n",
    "words={}\n",
    "for i in range(len(x)):\n",
    "    x[i]=x[i].split()\n",
    "    if x[i][1]=='WORDTAG':\n",
    "        if x[i][3] not in words.keys():\n",
    "            words[x[i][3]]=int(x[i][0])\n",
    "        else:\n",
    "            words[x[i][3]]+=int(x[i][0])\n",
    "rem_words=[]\n",
    "for i in words.keys():\n",
    "    if words[i]==1:\n",
    "        rem_words.append(i)"
   ]
  },
  {
   "cell_type": "code",
   "execution_count": 36,
   "metadata": {},
   "outputs": [],
   "source": [
    "def replace(filein, words, fileout):\n",
    "    f = open(filein,'r')\n",
    "    f2 = open(fileout,'w')\n",
    "    filedata = f.readlines()\n",
    "    f.close()\n",
    "    \n",
    "    for i in range(len(filedata)):\n",
    "        x=filedata[i].split()\n",
    "        for word in rem_words:\n",
    "            if word in x and 'I-GENE' not in x:\n",
    "                idx=x.index(word)\n",
    "                x[idx]='_RARE_'\n",
    "        f2.write(' '.join(x))\n",
    "        f2.write('\\n')\n",
    "    \n",
    "    f2.close()\n",
    "    \n",
    "replace(\"gene.train\", words, \"gene_mod1.train\")"
   ]
  },
  {
   "cell_type": "code",
   "execution_count": 4,
   "metadata": {},
   "outputs": [],
   "source": [
    "trained=open(\"trial1\",\"r\")\n",
    "x=trained.readlines()\n",
    "trained.close()\n",
    "all_words=[]\n",
    "for i in range(len(x)):\n",
    "    x[i]=x[i].split()\n",
    "    if x[i][1]=='WORDTAG':\n",
    "        all_words.append(x[i][3])"
   ]
  },
  {
   "cell_type": "code",
   "execution_count": 8,
   "metadata": {},
   "outputs": [],
   "source": [
    "from count_freqs import * \n",
    "counter_dev = Hmm(3)\n",
    "input = open(\"gene.dev\",\"r\")\n",
    "counter_dev.train(input)\n",
    "output=open(\"count_dev\",\"w\")\n",
    "counter_dev.write_counts(output)\n",
    "output.close()"
   ]
  },
  {
   "cell_type": "code",
   "execution_count": 10,
   "metadata": {},
   "outputs": [],
   "source": [
    "dev=open(\"count_dev\",\"r\")\n",
    "x=dev.readlines()\n",
    "dev.close()\n",
    "dev_words=[]\n",
    "for i in range(len(x)):\n",
    "    x[i]=x[i].split()\n",
    "    if x[i][1]=='WORDTAG':\n",
    "        dev_words.append(x[i][2])"
   ]
  },
  {
   "cell_type": "code",
   "execution_count": null,
   "metadata": {},
   "outputs": [],
   "source": [
    "dev = open(\"gene.dev\",\"r\")\n",
    "y=dev.readlines()\n",
    "dev.close()\n",
    "\n",
    "dev_test=open(\"gene_dev_pred\",\"w\")\n",
    "\n",
    "for i in y:\n",
    "    i=i[:-1]\n",
    "    if i in all_words:\n",
    "        e_gene=emission_parameters(x, i, 'I-GENE')\n",
    "        e_o=emission_parameters(x, i, 'O')\n",
    "        if e_gene> e_o:\n",
    "            i = i + ' I-GENE\\n'\n",
    "        else:\n",
    "            i = i + ' O\\n' \n",
    "    elif len(i)==0:\n",
    "        i='\\n'\n",
    "    else:\n",
    "        i = i + ' O\\n'\n",
    "    dev_test.write(i)\n",
    "dev_test.close()"
   ]
  },
  {
   "cell_type": "code",
   "execution_count": 16,
   "metadata": {},
   "outputs": [],
   "source": [
    "dev = open(\"gene.dev\",\"r\")\n",
    "y=dev.readlines()\n",
    "dev.close()"
   ]
  },
  {
   "cell_type": "code",
   "execution_count": 4,
   "metadata": {},
   "outputs": [
    {
     "name": "stdout",
     "output_type": "stream",
     "text": [
      "Found 506 GENEs. Expected 642 GENEs; Correct: 234.\n",
      "\n",
      "\t precision \trecall \t\tF1-Score\n",
      "GENE:\t 0.462451\t0.364486\t0.407666\n"
     ]
    }
   ],
   "source": [
    "from eval_gene_tagger import *\n",
    "f1=open(\"gene.key\",\"r\")\n",
    "f2=open(\"gene_dev_try\",\"r\")\n",
    "gs_iterator = corpus_iterator(f1)\n",
    "pred_iterator = corpus_iterator(f2, with_logprob = False)\n",
    "evaluator = Evaluator()\n",
    "evaluator.compare(gs_iterator, pred_iterator)\n",
    "evaluator.print_scores()\n",
    "f1.close();f2.close()"
   ]
  },
  {
   "cell_type": "code",
   "execution_count": 19,
   "metadata": {},
   "outputs": [
    {
     "name": "stdout",
     "output_type": "stream",
     "text": [
      "Found 15527 GENEs. Expected 16637 GENEs; Correct: 6416.\n",
      "\n",
      "\t precision \trecall \t\tF1-Score\n",
      "GENE:\t 0.413216\t0.385646\t0.398955\n"
     ]
    }
   ],
   "source": [
    "from eval_gene_tagger import *\n",
    "f1=open(\"gene.train\",\"r\")\n",
    "f2=open(\"gene_train_try1\",\"r\")\n",
    "gs_iterator = corpus_iterator(f1)\n",
    "pred_iterator = corpus_iterator(f2, with_logprob = False)\n",
    "evaluator = Evaluator()\n",
    "evaluator.compare(gs_iterator, pred_iterator)\n",
    "evaluator.print_scores()\n",
    "f1.close();f2.close()"
   ]
  },
  {
   "cell_type": "markdown",
   "metadata": {},
   "source": [
    "Modifications to rare classes"
   ]
  },
  {
   "cell_type": "code",
   "execution_count": 10,
   "metadata": {},
   "outputs": [],
   "source": [
    "dev = open(\"gene.dev\",\"r\")\n",
    "y=dev.readlines()\n",
    "dev.close()\n",
    "\n",
    "dev_test=open(\"gene_dev_pred1\",\"w\")\n",
    "\n",
    "for i in y:\n",
    "    i=i[:-1]\n",
    "    if i in all_words:\n",
    "        e_gene=emission_parameters(x, i, 'I-GENE')\n",
    "        e_o=emission_parameters(x, i, 'O')\n",
    "        if e_gene> e_o:\n",
    "            i = i + ' I-GENE\\n'\n",
    "        else:\n",
    "            i = i + ' O\\n' \n",
    "    elif len(i)==0:\n",
    "        i='\\n'\n",
    "    else:\n",
    "        if i.isupper() or i.endswith('ic') or i.endswith('ase')or i.endswith('in')or i.endswith('ic')or i.endswith('ica')or i.endswith('gen')or i.endswith('ases')or i.endswith('or')or i.endswith('ors')or i.endswith('ory'):\n",
    "                i = i + ' I-GENE\\n'\n",
    "        else:\n",
    "            i = i + ' O\\n'\n",
    "    dev_test.write(i)\n",
    "dev_test.close()"
   ]
  },
  {
   "cell_type": "code",
   "execution_count": 4,
   "metadata": {},
   "outputs": [],
   "source": [
    "train = open(\"gene.train\",\"r\")\n",
    "y=train.readlines()\n",
    "train.close()\n",
    "\n",
    "train_test=open(\"gene_train_pred1\",\"w\")\n",
    "\n",
    "for i in y:\n",
    "    if i!='\\n':\n",
    "        i=i.split()[0]\n",
    "    if i in all_words:\n",
    "        e_gene=emission_parameters(x, i, 'I-GENE')\n",
    "        e_o=emission_parameters(x, i, 'O')\n",
    "        if e_gene> e_o:\n",
    "            i = i + ' I-GENE\\n'\n",
    "        else:\n",
    "            i = i + ' O\\n' \n",
    "    elif i=='\\n':\n",
    "        i='\\n'\n",
    "    else:\n",
    "        if i.isupper() or i.endswith('ic') or i.endswith('ase')or i.endswith('in')or i.endswith('ic')or i.endswith('ica')or i.endswith('gen')or i.endswith('ases')or i.endswith('or')or i.endswith('ors')or i.endswith('ory'):\n",
    "                i = i + ' I-GENE\\n'\n",
    "        else:\n",
    "            i = i + ' O\\n'\n",
    "    train_test.write(i)\n",
    "train_test.close()"
   ]
  },
  {
   "cell_type": "code",
   "execution_count": 5,
   "metadata": {},
   "outputs": [],
   "source": [
    "def emission_parameters(x, word, tag):\n",
    "    den=0;num=0\n",
    "    if word not in all_words:\n",
    "        i=word\n",
    "        if i.isupper() or i.endswith('ic') or i.endswith('ase')or i.endswith('in')or i.endswith('ic')or i.endswith('ica')or i.endswith('gen')or i.endswith('ases')or i.endswith('or')or i.endswith('ors')or i.endswith('ory'):\n",
    "            word='-'\n",
    "        else:\n",
    "            word='_RARE_'\n",
    "    for i in range(len(x)):\n",
    "        if x[i][1]=='WORDTAG' and x[i][2]==tag:\n",
    "            if x[i][3]==word:\n",
    "                num=int(x[i][0])\n",
    "            den+=int(x[i][0])        \n",
    "    return num/den\n",
    "     "
   ]
  },
  {
   "cell_type": "code",
   "execution_count": 6,
   "metadata": {},
   "outputs": [],
   "source": [
    "def transmission_parameters(x, y2, y1, y):\n",
    "    num=0;den=0\n",
    "    for i in x[20139:]:\n",
    "        if i[1]=='3-GRAM' and i[2]== y2 and i[3]==y1 and i[4]== y:\n",
    "            num=int(i[0])\n",
    "        if i[1]=='2-GRAM' and i[2]== y2 and i[3]==y1:\n",
    "            den=int(i[0])\n",
    "    return num/den    "
   ]
  },
  {
   "cell_type": "code",
   "execution_count": 5,
   "metadata": {},
   "outputs": [],
   "source": [
    "def transmission_parameters_bigram(x, y1, y):\n",
    "    num=0;den=0\n",
    "    for i in x[20139:]:\n",
    "        if i[1]=='2-GRAM' and i[2]== y1 and i[3]==y: \n",
    "            num=int(i[0])\n",
    "        if i[1]=='1-GRAM' and i[2]== y1:\n",
    "            den=int(i[0])\n",
    "    return num/den"
   ]
  },
  {
   "cell_type": "code",
   "execution_count": 7,
   "metadata": {},
   "outputs": [],
   "source": [
    "def backtrace(z_pred, back, n, labels):\n",
    "    prev1, prev2 = z_pred[-1], z_pred[-2]\n",
    "    for k in np.arange(n-2)[::-1]:\n",
    "        z_pred[k] = back[prev2, prev1,k+2]\n",
    "    return [labels[z] for z in z_pred] \n",
    "        \n",
    "def viterbi(sent):\n",
    "    #0- tag 'O'\n",
    "    #1- tag 'I-GENE'\n",
    "    n=len(sent)\n",
    "    p = np.zeros(shape=(2, 2, n))\n",
    "    back = np.zeros(shape=(2, 2, n), dtype=np.int)\n",
    "    z_pred = np.zeros(shape=(n, ), dtype=np.int)\n",
    "    tag=['O','I-GENE']\n",
    "    for q in range(len(tag)):\n",
    "        temp=transmission_parameters(x, '*', '*', tag[q]) * emission_parameters(x, sent[0], tag[q])\n",
    "        p[q, 0, 0] = temp\n",
    "        p[q, 1, 0] = temp\n",
    "        back[q, 0, 0] = 0\n",
    "        back[q, 1, 0] = 0\n",
    "    for t in np.arange(n)[1:]:\n",
    "        for v in range(len(tag)):\n",
    "            for u in range(len(tag)):\n",
    "                temp=[p[w, u, t - 1] * transmission_parameters(x, tag[w], tag[u], tag[v]) * emission_parameters(x, sent[t], tag[v]) for w in range(len(tag))]\n",
    "                p[u, v, t] = np.max(temp)\n",
    "                back[u, v, t] = np.argmax(temp)\n",
    "    max_val=float('inf')            \n",
    "    for v in range(len(tag)):\n",
    "        for u in range(len(tag)):\n",
    "            temp=p[u, v, n - 1]*transmission_parameters(x, tag[u], tag[v], 'STOP')\n",
    "            if temp>max_val:\n",
    "                z_pred[n-1]=v;z_pred[n-2]=u\n",
    "    \n",
    "    return backtrace(z_pred, back, n, tag)"
   ]
  },
  {
   "cell_type": "code",
   "execution_count": 6,
   "metadata": {},
   "outputs": [],
   "source": [
    "def backtrace(z_pred, back, n, labels):\n",
    "    prev1, prev2 = z_pred[-1], z_pred[-2]\n",
    "    for k in np.arange(n-2)[::-1]:\n",
    "        z_pred[k] = back[prev2, prev1,k+2]\n",
    "    return [labels[z] for z in z_pred] \n",
    "        \n",
    "def viterbi_ext(sent):\n",
    "    #0- tag 'O'\n",
    "    #1- tag 'I-GENE'\n",
    "    n=len(sent)\n",
    "    p = np.zeros(shape=(2, 2, n))\n",
    "    back = np.zeros(shape=(2, 2, n), dtype=np.int)\n",
    "    z_pred = np.zeros(shape=(n, ), dtype=np.int)\n",
    "    tag=['O','I-GENE']\n",
    "    for q in range(len(tag)):\n",
    "        temp=transmission_parameters(x, '*', '*', tag[q]) * emission_parameters(x, sent[0], tag[q])\n",
    "        p[q, 0, 0] = temp\n",
    "        p[q, 1, 0] = temp\n",
    "        back[q, 0, 0] = 0\n",
    "        back[q, 1, 0] = 0\n",
    "    for t in np.arange(n)[1:]:\n",
    "        if t==n-1:\n",
    "            next_word='STOP'\n",
    "        else:\n",
    "            next_word=sent[t+1]\n",
    "        if emission_parameters(x, next_word, 'I-GENE') > emission_parameters(x, next_word, 'O'):\n",
    "            next_tag='I-GENE'\n",
    "        else:\n",
    "            next_tag='O'\n",
    "        for v in range(len(tag)):\n",
    "            for u in range(len(tag)):                    \n",
    "                temp=[p[w, u, t - 1] * transmission_parameters(x, tag[w], tag[u], tag[v]) * transmission_parameters_bigram(x, tag[v], next_tag)* emission_parameters(x, next_word, next_tag)* emission_parameters(x, sent[t], tag[v]) for w in range(len(tag))]\n",
    "                p[u, v, t] = np.max(temp)\n",
    "                back[u, v, t] = np.argmax(temp)\n",
    "    max_val=float('inf')            \n",
    "    for v in range(len(tag)):\n",
    "        for u in range(len(tag)):\n",
    "            temp=p[u, v, n - 1]*transmission_parameters(x, tag[u], tag[v], 'STOP')\n",
    "            if temp>max_val:\n",
    "                z_pred[n-1]=v;z_pred[n-2]=u\n",
    "    \n",
    "    return backtrace(z_pred, back, n, tag)"
   ]
  },
  {
   "cell_type": "code",
   "execution_count": 7,
   "metadata": {},
   "outputs": [],
   "source": [
    "dev = open(\"gene.dev\",\"r\")\n",
    "y=dev.readlines()\n",
    "dev.close()\n",
    "\n",
    "sentences=[];temp=[]\n",
    "for i in y:\n",
    "    i=i[:-1]\n",
    "    if len(i)!=0:\n",
    "        temp.append(i)\n",
    "    if len(i)==0:\n",
    "        sentences.append(temp);temp=[]    "
   ]
  },
  {
   "cell_type": "code",
   "execution_count": 8,
   "metadata": {},
   "outputs": [],
   "source": [
    "dev = open(\"gene.train\",\"r\")\n",
    "y=dev.readlines()\n",
    "dev.close()\n",
    "\n",
    "sentences=[];temp=[]\n",
    "for i in y:\n",
    "    i=i.split()\n",
    "    if len(i)!=0:\n",
    "        temp.append(i[0])\n",
    "    if len(i)==0:\n",
    "        sentences.append(temp);temp=[]"
   ]
  },
  {
   "cell_type": "code",
   "execution_count": 13,
   "metadata": {},
   "outputs": [],
   "source": [
    "tags=[]\n",
    "for i in sentences:\n",
    "    if len(i)<=2:\n",
    "        tags.append(['O','O'])\n",
    "    else:\n",
    "        tags.append(viterbi(i))\n",
    "\n",
    "dev_test=open(\"gene_train_try1\",\"w\")\n",
    "for i in range(len(sentences)):\n",
    "    for j in range(len(sentences[i])):\n",
    "        dev_test.write(sentences[i][j] + ' ' + tags[i][j]+ '\\n')\n",
    "    dev_test.write('\\n')\n",
    "dev_test.close()"
   ]
  },
  {
   "cell_type": "code",
   "execution_count": null,
   "metadata": {},
   "outputs": [],
   "source": []
  }
 ],
 "metadata": {
  "kernelspec": {
   "display_name": "Python 3",
   "language": "python",
   "name": "python3"
  },
  "language_info": {
   "codemirror_mode": {
    "name": "ipython",
    "version": 3
   },
   "file_extension": ".py",
   "mimetype": "text/x-python",
   "name": "python",
   "nbconvert_exporter": "python",
   "pygments_lexer": "ipython3",
   "version": "3.6.8"
  }
 },
 "nbformat": 4,
 "nbformat_minor": 2
}
